{
 "cells": [
  {
   "cell_type": "code",
   "execution_count": 2,
   "id": "7bab2b8f-a3d1-454b-88a9-3c908bf0cb8e",
   "metadata": {},
   "outputs": [
    {
     "name": "stdout",
     "output_type": "stream",
     "text": [
      "Requirement already satisfied: pip in c:\\users\\gvksg\\appdata\\local\\programs\\python\\python312\\lib\\site-packages (23.3.1)\n"
     ]
    }
   ],
   "source": [
    "!pip install --upgrade pip\n",
    "\n"
   ]
  },
  {
   "cell_type": "code",
   "execution_count": 3,
   "id": "1cc9ba43-1f58-41f9-a186-9b9d60293215",
   "metadata": {},
   "outputs": [
    {
     "name": "stdout",
     "output_type": "stream",
     "text": [
      "Collecting multidict==5.2.0\n",
      "  Using cached multidict-5.2.0.tar.gz (49 kB)\n",
      "  Installing build dependencies: started\n",
      "  Installing build dependencies: finished with status 'done'\n",
      "  Getting requirements to build wheel: started\n",
      "  Getting requirements to build wheel: finished with status 'done'\n",
      "  Preparing metadata (pyproject.toml): started\n",
      "  Preparing metadata (pyproject.toml): finished with status 'done'\n",
      "Building wheels for collected packages: multidict\n",
      "  Building wheel for multidict (pyproject.toml): started\n",
      "  Building wheel for multidict (pyproject.toml): finished with status 'done'\n",
      "  Created wheel for multidict: filename=multidict-5.2.0-cp312-cp312-win_amd64.whl size=45468 sha256=f6d42b04edf61272ed46757022ab350d64cfcff4af5931a945aa5ecb43039726\n",
      "  Stored in directory: c:\\users\\gvksg\\appdata\\local\\pip\\cache\\wheels\\07\\0a\\62\\442e1bcb8b0f747d3a636f3ce6d73e0e5d5784cf14edc38549\n",
      "Successfully built multidict\n",
      "Installing collected packages: multidict\n",
      "Successfully installed multidict-5.2.0\n"
     ]
    }
   ],
   "source": [
    "!pip install multidict==5.2.0\n"
   ]
  },
  {
   "cell_type": "code",
   "execution_count": 4,
   "id": "798db0b9-f138-401e-ab7d-eb2f11fe8568",
   "metadata": {},
   "outputs": [
    {
     "name": "stdout",
     "output_type": "stream",
     "text": [
      "Collecting s3fs\n",
      "  Using cached s3fs-2023.12.2-py3-none-any.whl.metadata (1.6 kB)\n",
      "Collecting aiobotocore<3.0.0,>=2.5.4 (from s3fs)\n",
      "  Using cached aiobotocore-2.9.0-py3-none-any.whl.metadata (20 kB)\n",
      "Collecting fsspec==2023.12.2 (from s3fs)\n",
      "  Using cached fsspec-2023.12.2-py3-none-any.whl.metadata (6.8 kB)\n",
      "Collecting aiohttp!=4.0.0a0,!=4.0.0a1 (from s3fs)\n",
      "  Using cached aiohttp-3.9.1-cp312-cp312-win_amd64.whl.metadata (7.6 kB)\n",
      "Collecting botocore<1.33.14,>=1.33.2 (from aiobotocore<3.0.0,>=2.5.4->s3fs)\n",
      "  Using cached botocore-1.33.13-py3-none-any.whl.metadata (6.1 kB)\n",
      "Collecting wrapt<2.0.0,>=1.10.10 (from aiobotocore<3.0.0,>=2.5.4->s3fs)\n",
      "  Using cached wrapt-1.16.0-cp312-cp312-win_amd64.whl.metadata (6.8 kB)\n",
      "Collecting aioitertools<1.0.0,>=0.5.1 (from aiobotocore<3.0.0,>=2.5.4->s3fs)\n",
      "  Using cached aioitertools-0.11.0-py3-none-any.whl (23 kB)\n",
      "Requirement already satisfied: attrs>=17.3.0 in c:\\users\\gvksg\\appdata\\local\\programs\\python\\python312\\lib\\site-packages (from aiohttp!=4.0.0a0,!=4.0.0a1->s3fs) (23.1.0)\n",
      "Requirement already satisfied: multidict<7.0,>=4.5 in c:\\users\\gvksg\\appdata\\local\\programs\\python\\python312\\lib\\site-packages (from aiohttp!=4.0.0a0,!=4.0.0a1->s3fs) (5.2.0)\n",
      "Collecting yarl<2.0,>=1.0 (from aiohttp!=4.0.0a0,!=4.0.0a1->s3fs)\n",
      "  Using cached yarl-1.9.4-cp312-cp312-win_amd64.whl.metadata (32 kB)\n",
      "Collecting frozenlist>=1.1.1 (from aiohttp!=4.0.0a0,!=4.0.0a1->s3fs)\n",
      "  Using cached frozenlist-1.4.1-cp312-cp312-win_amd64.whl.metadata (12 kB)\n",
      "Collecting aiosignal>=1.1.2 (from aiohttp!=4.0.0a0,!=4.0.0a1->s3fs)\n",
      "  Using cached aiosignal-1.3.1-py3-none-any.whl (7.6 kB)\n",
      "Collecting jmespath<2.0.0,>=0.7.1 (from botocore<1.33.14,>=1.33.2->aiobotocore<3.0.0,>=2.5.4->s3fs)\n",
      "  Using cached jmespath-1.0.1-py3-none-any.whl (20 kB)\n",
      "Requirement already satisfied: python-dateutil<3.0.0,>=2.1 in c:\\users\\gvksg\\appdata\\local\\programs\\python\\python312\\lib\\site-packages (from botocore<1.33.14,>=1.33.2->aiobotocore<3.0.0,>=2.5.4->s3fs) (2.8.2)\n",
      "Collecting urllib3<2.1,>=1.25.4 (from botocore<1.33.14,>=1.33.2->aiobotocore<3.0.0,>=2.5.4->s3fs)\n",
      "  Using cached urllib3-2.0.7-py3-none-any.whl.metadata (6.6 kB)\n",
      "Requirement already satisfied: idna>=2.0 in c:\\users\\gvksg\\appdata\\local\\programs\\python\\python312\\lib\\site-packages (from yarl<2.0,>=1.0->aiohttp!=4.0.0a0,!=4.0.0a1->s3fs) (3.6)\n",
      "Requirement already satisfied: six>=1.5 in c:\\users\\gvksg\\appdata\\local\\programs\\python\\python312\\lib\\site-packages (from python-dateutil<3.0.0,>=2.1->botocore<1.33.14,>=1.33.2->aiobotocore<3.0.0,>=2.5.4->s3fs) (1.16.0)\n",
      "Using cached s3fs-2023.12.2-py3-none-any.whl (28 kB)\n",
      "Using cached fsspec-2023.12.2-py3-none-any.whl (168 kB)\n",
      "Using cached aiobotocore-2.9.0-py3-none-any.whl (75 kB)\n",
      "Using cached aiohttp-3.9.1-cp312-cp312-win_amd64.whl (362 kB)\n",
      "Using cached botocore-1.33.13-py3-none-any.whl (11.8 MB)\n",
      "Using cached frozenlist-1.4.1-cp312-cp312-win_amd64.whl (50 kB)\n",
      "Using cached wrapt-1.16.0-cp312-cp312-win_amd64.whl (37 kB)\n",
      "Using cached yarl-1.9.4-cp312-cp312-win_amd64.whl (76 kB)\n",
      "Using cached urllib3-2.0.7-py3-none-any.whl (124 kB)\n",
      "Installing collected packages: yarl, wrapt, urllib3, jmespath, fsspec, frozenlist, aioitertools, botocore, aiosignal, aiohttp, aiobotocore, s3fs\n",
      "  Attempting uninstall: urllib3\n",
      "    Found existing installation: urllib3 2.1.0\n",
      "    Uninstalling urllib3-2.1.0:\n",
      "      Successfully uninstalled urllib3-2.1.0\n",
      "Successfully installed aiobotocore-2.9.0 aiohttp-3.9.1 aioitertools-0.11.0 aiosignal-1.3.1 botocore-1.33.13 frozenlist-1.4.1 fsspec-2023.12.2 jmespath-1.0.1 s3fs-2023.12.2 urllib3-2.0.7 wrapt-1.16.0 yarl-1.9.4\n"
     ]
    }
   ],
   "source": [
    "!pip install s3fs\n"
   ]
  },
  {
   "cell_type": "code",
   "execution_count": 5,
   "id": "81199a4a-7028-43db-bf15-082f67ce9b71",
   "metadata": {},
   "outputs": [
    {
     "name": "stdout",
     "output_type": "stream",
     "text": [
      "Requirement already satisfied: kafka-python in c:\\users\\gvksg\\appdata\\local\\programs\\python\\python312\\lib\\site-packages (2.0.2)\n",
      "Note: you may need to restart the kernel to use updated packages.\n"
     ]
    }
   ],
   "source": [
    "pip install kafka-python"
   ]
  },
  {
   "cell_type": "code",
   "execution_count": 8,
   "id": "9c723e08-03d6-453b-a4c1-60595a3b25b0",
   "metadata": {},
   "outputs": [],
   "source": [
    "import sys, types\n",
    "\n",
    "m = types.ModuleType('kafka.vendor.six.moves', 'Mock module')\n",
    "setattr(m, 'range', range)\n",
    "sys.modules['kafka.vendor.six.moves'] = m"
   ]
  },
  {
   "cell_type": "code",
   "execution_count": 9,
   "id": "5180b531-1ffa-4911-a76e-e9868c3b7e1b",
   "metadata": {},
   "outputs": [],
   "source": [
    "import pandas as pd\n",
    "from kafka import KafkaConsumer\n",
    "from time import sleep\n",
    "from json import dumps,loads\n",
    "import json\n",
    "import s3fs\n",
    "from s3fs import S3FileSystem\n"
   ]
  },
  {
   "cell_type": "code",
   "execution_count": 10,
   "id": "0738499d-fdea-48c3-abe3-b43aa114480f",
   "metadata": {},
   "outputs": [],
   "source": [
    "consumer = KafkaConsumer(\n",
    "    'demo_test',\n",
    "     bootstrap_servers=['3.145.19.63:9092'], #add your IP here\n",
    "    value_deserializer=lambda x: loads(x.decode('utf-8')))"
   ]
  },
  {
   "cell_type": "code",
   "execution_count": 6,
   "id": "18f5ebd0-dcd8-4af8-a1cf-e00d2c7bbbee",
   "metadata": {},
   "outputs": [
    {
     "name": "stdout",
     "output_type": "stream",
     "text": [
      "{'Index': 'GSPTSE', 'Date': '1996-08-08', 'Open': 5028.799805, 'High': 5041.700195, 'Low': 5026.399902, 'Close': 5041.700195, 'Adj Close': 5041.700195, 'Volume': 61630000.0, 'CloseUSD': 4184.61116185}\n",
      "{'Index': 'N100', 'Date': '2015-01-23', 'Open': 901.099976, 'High': 917.619995, 'Low': 900.330017, 'Close': 911.72998, 'Adj Close': 911.72998, 'Volume': 804870700.0, 'CloseUSD': 1112.3105756}\n",
      "{'Index': 'NYA', 'Date': '2019-06-14', 'Open': 12808.88965, 'High': 12813.0, 'Low': 12767.84961, 'Close': 12787.24023, 'Adj Close': 12787.24023, 'Volume': 2922330000.0, 'CloseUSD': 12787.24023}\n",
      "{'Index': '399001.SZ', 'Date': '2014-08-07', 'Open': 7990.0, 'High': 8027.509766, 'Low': 7869.879883, 'Close': 7872.950195, 'Adj Close': 7872.862305, 'Volume': 190400.0, 'CloseUSD': 1259.6720312}\n",
      "{'Index': 'GSPTSE', 'Date': '2019-12-24', 'Open': 17132.80078, 'High': 17180.19922, 'Low': 17095.19922, 'Close': 17180.19922, 'Adj Close': 17180.19922, 'Volume': 9319500000.0, 'CloseUSD': 14259.5653526}\n",
      "{'Index': 'IXIC', 'Date': '2014-07-09', 'Open': 4403.029785, 'High': 4421.930176, 'Low': 4388.009766, 'Close': 4419.029785, 'Adj Close': 4419.029785, 'Volume': 1736960000.0, 'CloseUSD': 4419.029785}\n",
      "{'Index': 'GDAXI', 'Date': '2009-10-20', 'Open': 5856.129883, 'High': 5888.209961, 'Low': 5801.439941, 'Close': 5811.77002, 'Adj Close': 5811.77002, 'Volume': 111809400.0, 'CloseUSD': 7090.3594244}\n",
      "{'Index': 'IXIC', 'Date': '2008-11-18', 'Open': 1488.930054, 'High': 1498.420044, 'Low': 1429.920044, 'Close': 1483.27002, 'Adj Close': 1483.27002, 'Volume': 2349230000.0, 'CloseUSD': 1483.27002}\n",
      "{'Index': 'IXIC', 'Date': '2007-08-15', 'Open': 2492.76001, 'High': 2520.389893, 'Low': 2457.889893, 'Close': 2458.830078, 'Adj Close': 2458.830078, 'Volume': 2259870000.0, 'CloseUSD': 2458.830078}\n",
      "{'Index': 'NYA', 'Date': '2012-08-27', 'Open': 8056.410156, 'High': 8070.859863, 'Low': 8031.330078, 'Close': 8036.240234, 'Adj Close': 8036.240234, 'Volume': 2472500000.0, 'CloseUSD': 8036.240234}\n",
      "{'Index': 'J203.JO', 'Date': '2013-04-03', 'Open': 40041.32031, 'High': 40041.32031, 'Low': 39408.57813, 'Close': 39414.33984, 'Adj Close': 39414.33984, 'Volume': 0.0, 'CloseUSD': 2759.0037888}\n",
      "{'Index': 'N225', 'Date': '1996-05-28', 'Open': 21753.51953, 'High': 21992.56055, 'Low': 21753.51953, 'Close': 21944.5293, 'Adj Close': 21944.5293, 'Volume': 0.0, 'CloseUSD': 219.445293}\n",
      "{'Index': 'NYA', 'Date': '2014-03-25', 'Open': 10397.70996, 'High': 10436.63965, 'Low': 10369.91016, 'Close': 10417.05957, 'Adj Close': 10417.05957, 'Volume': 3200560000.0, 'CloseUSD': 10417.05957}\n",
      "{'Index': 'TWII', 'Date': '2020-06-10', 'Open': 11635.99023, 'High': 11740.90039, 'Low': 11621.01953, 'Close': 11720.16016, 'Adj Close': 11720.16016, 'Volume': 3477600.0, 'CloseUSD': 468.8064064}\n",
      "{'Index': 'N225', 'Date': '2003-08-19', 'Open': 10143.30957, 'High': 10241.94043, 'Low': 10131.20996, 'Close': 10174.09961, 'Adj Close': 10174.09961, 'Volume': 117800000.0, 'CloseUSD': 101.7409961}\n",
      "{'Index': 'HSI', 'Date': '1991-07-26', 'Open': 4012.0, 'High': 4038.0, 'Low': 4012.0, 'Close': 4031.0, 'Adj Close': 4031.0, 'Volume': 0.0, 'CloseUSD': 524.03}\n",
      "{'Index': 'N225', 'Date': '1982-09-03', 'Open': 7175.589844, 'High': 7175.589844, 'Low': 7175.589844, 'Close': 7175.589844, 'Adj Close': 7175.589844, 'Volume': 0.0, 'CloseUSD': 71.75589844}\n",
      "{'Index': 'NYA', 'Date': '1998-09-01', 'Open': 5243.830078, 'High': 5243.830078, 'Low': 5243.830078, 'Close': 5243.830078, 'Adj Close': 5243.830078, 'Volume': 0.0, 'CloseUSD': 5243.830078}\n",
      "{'Index': 'NYA', 'Date': '2011-01-18', 'Open': 8174.129883, 'High': 8194.69043, 'Low': 8165.560059, 'Close': 8190.910156, 'Adj Close': 8190.910156, 'Volume': 5284990000.0, 'CloseUSD': 8190.910156}\n",
      "{'Index': '000001.SS', 'Date': '2020-05-11', 'Open': 2901.570068, 'High': 2914.280029, 'Low': 2884.379883, 'Close': 2894.800049, 'Adj Close': 2894.800049, 'Volume': 225100.0, 'CloseUSD': 463.16800784}\n",
      "{'Index': 'HSI', 'Date': '2011-01-03', 'Open': 23135.64063, 'High': 23443.5293, 'Low': 23057.51953, 'Close': 23436.05078, 'Adj Close': 23436.05078, 'Volume': 1066929900.0, 'CloseUSD': 3046.6866014}\n",
      "{'Index': '000001.SS', 'Date': '2018-11-06', 'Open': 2660.718994, 'High': 2660.863037, 'Low': 2635.321045, 'Close': 2659.355957, 'Adj Close': 2659.355957, 'Volume': 163700.0, 'CloseUSD': 425.49695312000006}\n",
      "{'Index': 'IXIC', 'Date': '2001-11-06', 'Open': 1786.920044, 'High': 1835.48999, 'Low': 1777.910034, 'Close': 1835.079956, 'Adj Close': 1835.079956, 'Volume': 1945510000.0, 'CloseUSD': 1835.079956}\n",
      "{'Index': 'TWII', 'Date': '2002-12-19', 'Open': 4498.129883, 'High': 4592.120117, 'Low': 4480.97998, 'Close': 4549.22998, 'Adj Close': 4549.212891, 'Volume': 0.0, 'CloseUSD': 181.9691992}\n",
      "{'Index': 'N100', 'Date': '2002-10-23', 'Open': 557.150024, 'High': 559.690002, 'Low': 533.030029, 'Close': 533.030029, 'Adj Close': 533.030029, 'Volume': 0.0, 'CloseUSD': 650.29663538}\n",
      "{'Index': 'TWII', 'Date': '2015-10-01', 'Open': 8194.299805, 'High': 8317.790039, 'Low': 8170.779785, 'Close': 8295.94043, 'Adj Close': 8295.908203, 'Volume': 2108700.0, 'CloseUSD': 331.8376172}\n",
      "{'Index': 'N225', 'Date': '2007-08-10', 'Open': 16923.21094, 'High': 16948.96094, 'Low': 16651.71094, 'Close': 16764.08984, 'Adj Close': 16764.08984, 'Volume': 213300000.0, 'CloseUSD': 167.6408984}\n",
      "{'Index': 'GSPTSE', 'Date': '2010-04-05', 'Open': 12190.79981, 'High': 12203.40039, 'Low': 12151.09961, 'Close': 12186.40039, 'Adj Close': 12186.40039, 'Volume': 14661580000.0, 'CloseUSD': 10114.7123237}\n",
      "{'Index': '399001.SZ', 'Date': '2007-05-22', 'Open': 12301.26953, 'High': 12499.90039, 'Low': 12301.26953, 'Close': 12407.83008, 'Adj Close': 12407.69141, 'Volume': 155200.0, 'CloseUSD': 1985.2528128}\n",
      "{'Index': 'HSI', 'Date': '2019-02-15', 'Open': 28241.43945, 'High': 28256.68945, 'Low': 27845.86914, 'Close': 27900.83984, 'Adj Close': 27900.83984, 'Volume': 1781495400.0, 'CloseUSD': 3627.1091792}\n",
      "{'Index': 'NYA', 'Date': '2021-02-16', 'Open': 15370.21973, 'High': 15483.2002, 'Low': 15370.21973, 'Close': 15423.01953, 'Adj Close': 15423.01953, 'Volume': 5037360000.0, 'CloseUSD': 15423.01953}\n",
      "{'Index': 'N100', 'Date': '2016-03-08', 'Open': 858.409973, 'High': 863.630005, 'Low': 850.609985, 'Close': 857.780029, 'Adj Close': 857.780029, 'Volume': 222650200.0, 'CloseUSD': 1046.49163538}\n",
      "{'Index': 'IXIC', 'Date': '2011-12-01', 'Open': 2615.669922, 'High': 2636.080078, 'Low': 2611.47998, 'Close': 2626.199951, 'Adj Close': 2626.199951, 'Volume': 1826860000.0, 'CloseUSD': 2626.199951}\n",
      "{'Index': 'N225', 'Date': '1976-09-02', 'Open': 4781.810059, 'High': 4781.810059, 'Low': 4781.810059, 'Close': 4781.810059, 'Adj Close': 4781.810059, 'Volume': 0.0, 'CloseUSD': 47.81810059000001}\n",
      "{'Index': 'HSI', 'Date': '1995-03-08', 'Open': 8068.5, 'High': 8068.5, 'Low': 7905.799805, 'Close': 7930.0, 'Adj Close': 7930.0, 'Volume': 0.0, 'CloseUSD': 1030.9}\n",
      "{'Index': 'GDAXI', 'Date': '2012-11-23', 'Open': 7258.330078, 'High': 7311.549805, 'Low': 7219.549805, 'Close': 7309.129883, 'Adj Close': 7309.129883, 'Volume': 104506800.0, 'CloseUSD': 8917.13845726}\n",
      "{'Index': 'GSPTSE', 'Date': '2000-08-04', 'Open': 10516.09961, 'High': 10569.2002, 'Low': 10509.7002, 'Close': 10567.5, 'Adj Close': 10567.5, 'Volume': 5230460000.0, 'CloseUSD': 8771.025}\n",
      "{'Index': 'SSMI', 'Date': '2016-05-20', 'Open': 7947.459961, 'High': 8011.330078, 'Low': 7944.589844, 'Close': 7997.299805, 'Adj Close': 7997.299805, 'Volume': 63940800.0, 'CloseUSD': 8877.00278355}\n",
      "{'Index': 'GDAXI', 'Date': '1992-08-24', 'Open': 1484.969971, 'High': 1484.969971, 'Low': 1484.969971, 'Close': 1484.969971, 'Adj Close': 1484.969971, 'Volume': 0.0, 'CloseUSD': 1811.66336462}\n",
      "{'Index': 'GDAXI', 'Date': '2004-01-20', 'Open': 4141.330078, 'High': 4156.080078, 'Low': 4101.540039, 'Close': 4106.410156, 'Adj Close': 4106.410156, 'Volume': 110834200.0, 'CloseUSD': 5009.82039032}\n",
      "{'Index': 'IXIC', 'Date': '2015-12-09', 'Open': 5077.209961, 'High': 5106.370117, 'Low': 5000.120117, 'Close': 5022.870117, 'Adj Close': 5022.870117, 'Volume': 2003450000.0, 'CloseUSD': 5022.870117}\n",
      "{'Index': 'N100', 'Date': '2012-06-21', 'Open': 593.880005, 'High': 600.830017, 'Low': 592.48999, 'Close': 594.929993, 'Adj Close': 594.929993, 'Volume': 344707800.0, 'CloseUSD': 725.81459146}\n",
      "{'Index': 'IXIC', 'Date': '1974-02-07', 'Open': 92.809998, 'High': 92.809998, 'Low': 92.809998, 'Close': 92.809998, 'Adj Close': 92.809998, 'Volume': 0.0, 'CloseUSD': 92.809998}\n",
      "{'Index': 'N225', 'Date': '2004-08-10', 'Open': 10849.7002, 'High': 10972.07031, 'Low': 10849.7002, 'Close': 10953.54981, 'Adj Close': 10953.54981, 'Volume': 67100000.0, 'CloseUSD': 109.5354981}\n",
      "{'Index': 'GDAXI', 'Date': '2018-02-22', 'Open': 12358.82031, 'High': 12497.70996, 'Low': 12283.7002, 'Close': 12461.91016, 'Adj Close': 12461.91016, 'Volume': 104173000.0, 'CloseUSD': 15203.5303952}\n",
      "{'Index': 'HSI', 'Date': '1998-06-02', 'Open': 8618.669922, 'High': 8618.669922, 'Low': 8351.110352, 'Close': 8598.169922, 'Adj Close': 8598.169922, 'Volume': 0.0, 'CloseUSD': 1117.7620898599998}\n",
      "{'Index': 'IXIC', 'Date': '1973-07-03', 'Open': 99.449997, 'High': 99.449997, 'Low': 99.449997, 'Close': 99.449997, 'Adj Close': 99.449997, 'Volume': 0.0, 'CloseUSD': 99.449997}\n",
      "{'Index': 'HSI', 'Date': '2008-02-18', 'Open': 24344.26953, 'High': 24413.89063, 'Low': 23735.86914, 'Close': 23759.25, 'Adj Close': 23759.25, 'Volume': 1666302100.0, 'CloseUSD': 3088.7025000000003}\n",
      "{'Index': 'IXIC', 'Date': '2007-08-31', 'Open': 2596.189941, 'High': 2603.110107, 'Low': 2579.790039, 'Close': 2596.360107, 'Adj Close': 2596.360107, 'Volume': 1536640000.0, 'CloseUSD': 2596.360107}\n",
      "{'Index': '399001.SZ', 'Date': '2018-12-19', 'Open': 7541.5, 'High': 7548.720215, 'Low': 7407.459961, 'Close': 7418.689941, 'Adj Close': 7418.689941, 'Volume': 56800.0, 'CloseUSD': 1186.99039056}\n",
      "{'Index': 'HSI', 'Date': '2002-07-16', 'Open': 10516.63965, 'High': 10573.07031, 'Low': 10399.66992, 'Close': 10421.49023, 'Adj Close': 10421.49023, 'Volume': 182111800.0, 'CloseUSD': 1354.7937299}\n",
      "{'Index': 'GSPTSE', 'Date': '2016-01-29', 'Open': 12636.09961, 'High': 12822.09961, 'Low': 12601.7002, 'Close': 12822.09961, 'Adj Close': 12822.09961, 'Volume': 33143300000.0, 'CloseUSD': 10642.3426763}\n",
      "{'Index': 'IXIC', 'Date': '2018-08-14', 'Open': 7847.879883, 'High': 7878.22998, 'Low': 7815.5, 'Close': 7870.890137, 'Adj Close': 7870.890137, 'Volume': 1917360000.0, 'CloseUSD': 7870.890137}\n",
      "{'Index': 'GDAXI', 'Date': '2018-11-22', 'Open': 11216.29004, 'High': 11221.76953, 'Low': 11119.04004, 'Close': 11138.49023, 'Adj Close': 11138.49023, 'Volume': 64564400.0, 'CloseUSD': 13588.9580806}\n",
      "{'Index': 'N100', 'Date': '2008-11-06', 'Open': 594.359985, 'High': 605.690002, 'Low': 575.52002, 'Close': 576.609985, 'Adj Close': 576.609985, 'Volume': 422267300.0, 'CloseUSD': 703.4641817}\n",
      "{'Index': 'IXIC', 'Date': '2019-07-19', 'Open': 8241.339844, 'High': 8245.780273, 'Low': 8144.629883, 'Close': 8146.490234, 'Adj Close': 8146.490234, 'Volume': 1878730000.0, 'CloseUSD': 8146.490234}\n",
      "{'Index': 'N225', 'Date': '1994-09-20', 'Open': 19601.7207, 'High': 19842.16992, 'Low': 19601.7207, 'Close': 19837.26953, 'Adj Close': 19837.26953, 'Volume': 0.0, 'CloseUSD': 198.37269530000003}\n",
      "{'Index': 'NYA', 'Date': '1998-07-06', 'Open': 6247.169922, 'High': 6247.169922, 'Low': 6247.169922, 'Close': 6247.169922, 'Adj Close': 6247.169922, 'Volume': 0.0, 'CloseUSD': 6247.169922}\n",
      "{'Index': 'N225', 'Date': '2005-01-28', 'Open': 11334.41016, 'High': 11340.28027, 'Low': 11218.87988, 'Close': 11320.58008, 'Adj Close': 11320.58008, 'Volume': 87800000.0, 'CloseUSD': 113.2058008}\n",
      "{'Index': '000001.SS', 'Date': '2003-11-28', 'Open': 1388.312012, 'High': 1401.463013, 'Low': 1385.817993, 'Close': 1397.224976, 'Adj Close': 1397.224976, 'Volume': 12000.0, 'CloseUSD': 223.55599616}\n",
      "{'Index': 'N100', 'Date': '2010-09-24', 'Open': 666.23999, 'High': 680.309998, 'Low': 664.98999, 'Close': 679.700012, 'Adj Close': 679.700012, 'Volume': 337008800.0, 'CloseUSD': 829.23401464}\n",
      "{'Index': 'TWII', 'Date': '2018-05-18', 'Open': 10844.08984, 'High': 10893.34961, 'Low': 10819.07031, 'Close': 10830.83984, 'Adj Close': 10830.83984, 'Volume': 2570800.0, 'CloseUSD': 433.2335936}\n",
      "{'Index': '000001.SS', 'Date': '1997-08-19', 'Open': 1134.616943, 'High': 1143.20105, 'Low': 1128.109009, 'Close': 1132.905029, 'Adj Close': 1132.905029, 'Volume': 0.0, 'CloseUSD': 181.26480464}\n",
      "{'Index': 'GDAXI', 'Date': '2006-05-23', 'Open': 5556.819824, 'High': 5703.339844, 'Low': 5556.819824, 'Close': 5678.490234, 'Adj Close': 5678.490234, 'Volume': 174287800.0, 'CloseUSD': 6927.75808548}\n",
      "{'Index': 'N100', 'Date': '2002-03-04', 'Open': 788.73999, 'High': 801.179993, 'Low': 788.559998, 'Close': 798.72998, 'Adj Close': 798.72998, 'Volume': 0.0, 'CloseUSD': 974.4505756}\n",
      "{'Index': '399001.SZ', 'Date': '2015-01-06', 'Open': 11424.91992, 'High': 11749.13965, 'Low': 11374.50977, 'Close': 11667.96973, 'Adj Close': 11667.83887, 'Volume': 454300.0, 'CloseUSD': 1866.8751568}\n",
      "{'Index': 'HSI', 'Date': '1994-01-26', 'Open': 11385.59961, 'High': 11385.59961, 'Low': 11150.7002, 'Close': 11239.59961, 'Adj Close': 11239.59961, 'Volume': 0.0, 'CloseUSD': 1461.1479493}\n",
      "{'Index': 'NYA', 'Date': '1982-12-21', 'Open': 843.150024, 'High': 843.150024, 'Low': 843.150024, 'Close': 843.150024, 'Adj Close': 843.150024, 'Volume': 0.0, 'CloseUSD': 843.150024}\n",
      "{'Index': 'GSPTSE', 'Date': '2009-05-12', 'Open': 10184.0, 'High': 10193.09961, 'Low': 9970.299805, 'Close': 10077.7002, 'Adj Close': 10077.7002, 'Volume': 24831730000.0, 'CloseUSD': 8364.491166}\n",
      "{'Index': 'TWII', 'Date': '2017-02-09', 'Open': 9555.519531, 'High': 9600.089844, 'Low': 9540.509766, 'Close': 9590.179688, 'Adj Close': 9590.172852, 'Volume': 2733900.0, 'CloseUSD': 383.60718752}\n",
      "{'Index': 'NYA', 'Date': '1968-05-20', 'Open': 572.359985, 'High': 572.359985, 'Low': 572.359985, 'Close': 572.359985, 'Adj Close': 572.359985, 'Volume': 0.0, 'CloseUSD': 572.359985}\n",
      "{'Index': '399001.SZ', 'Date': '2006-07-12', 'Open': 4324.009766, 'High': 4391.589844, 'Low': 4324.009766, 'Close': 4350.810059, 'Adj Close': 4350.76123, 'Volume': 67700.0, 'CloseUSD': 696.1296094400001}\n",
      "{'Index': 'J203.JO', 'Date': '2019-12-12', 'Open': 55766.44922, 'High': 56200.96875, 'Low': 55730.39844, 'Close': 55824.07813, 'Adj Close': 55824.07813, 'Volume': 0.0, 'CloseUSD': 3907.6854691}\n",
      "{'Index': 'GDAXI', 'Date': '2005-08-03', 'Open': 4930.410156, 'High': 4934.939941, 'Low': 4901.509766, 'Close': 4923.120117, 'Adj Close': 4923.120117, 'Volume': 115695200.0, 'CloseUSD': 6006.20654274}\n",
      "{'Index': 'N225', 'Date': '2019-03-12', 'Open': 21361.60938, 'High': 21568.48047, 'Low': 21348.81055, 'Close': 21503.68945, 'Adj Close': 21503.68945, 'Volume': 67800000.0, 'CloseUSD': 215.0368945}\n",
      "{'Index': 'TWII', 'Date': '2009-04-17', 'Open': 6068.549805, 'High': 6071.060059, 'Low': 5706.029785, 'Close': 5755.379883, 'Adj Close': 5755.358887, 'Volume': 10438800.0, 'CloseUSD': 230.21519532}\n",
      "{'Index': 'GSPTSE', 'Date': '2018-06-06', 'Open': 16128.79981, 'High': 16183.90039, 'Low': 16072.40039, 'Close': 16183.90039, 'Adj Close': 16183.90039, 'Volume': 18547680000.0, 'CloseUSD': 13432.6373237}\n",
      "{'Index': 'N225', 'Date': '2018-12-20', 'Open': 20779.92969, 'High': 20841.33984, 'Low': 20282.92969, 'Close': 20392.58008, 'Adj Close': 20392.58008, 'Volume': 96300000.0, 'CloseUSD': 203.9258008}\n",
      "{'Index': '399001.SZ', 'Date': '2012-03-16', 'Open': 10115.30957, 'High': 10284.25, 'Low': 10071.58008, 'Close': 10279.29981, 'Adj Close': 10279.18457, 'Volume': 78600.0, 'CloseUSD': 1644.6879696}\n",
      "{'Index': 'GDAXI', 'Date': '1994-11-18', 'Open': 2100.97998, 'High': 2100.97998, 'Low': 2078.51001, 'Close': 2089.47998, 'Adj Close': 2089.47998, 'Volume': 0.0, 'CloseUSD': 2549.1655756}\n",
      "{'Index': 'GDAXI', 'Date': '1994-01-11', 'Open': 2225.429932, 'High': 2235.610107, 'Low': 2225.179932, 'Close': 2228.100098, 'Adj Close': 2228.100098, 'Volume': 0.0, 'CloseUSD': 2718.28211956}\n",
      "{'Index': 'N225', 'Date': '2017-01-06', 'Open': 19393.55078, 'High': 19472.36914, 'Low': 19354.43945, 'Close': 19454.33008, 'Adj Close': 19454.33008, 'Volume': 119100000.0, 'CloseUSD': 194.5433008}\n",
      "{'Index': 'GDAXI', 'Date': '2015-06-05', 'Open': 11241.42969, 'High': 11287.2002, 'Low': 11155.00977, 'Close': 11197.15039, 'Adj Close': 11197.15039, 'Volume': 91468900.0, 'CloseUSD': 13660.5234758}\n",
      "{'Index': 'GDAXI', 'Date': '2003-02-04', 'Open': 2750.040039, 'High': 2750.040039, 'Low': 2618.139893, 'Close': 2632.97998, 'Adj Close': 2632.97998, 'Volume': 93671300.0, 'CloseUSD': 3212.2355756}\n",
      "{'Index': 'SSMI', 'Date': '1999-03-05', 'Open': 7138.700195, 'High': 7225.600098, 'Low': 7129.799805, 'Close': 7213.299805, 'Adj Close': 7213.299805, 'Volume': 0.0, 'CloseUSD': 8006.762783550001}\n",
      "{'Index': 'IXIC', 'Date': '2014-02-03', 'Open': 4105.060059, 'High': 4113.549805, 'Low': 3989.949951, 'Close': 3996.959961, 'Adj Close': 3996.959961, 'Volume': 2617030000.0, 'CloseUSD': 3996.959961}\n",
      "{'Index': 'GSPTSE', 'Date': '1987-08-17', 'Open': 4089.399902, 'High': 4090.899902, 'Low': 4069.699951, 'Close': 4072.300049, 'Adj Close': 4061.958496, 'Volume': 21570000.0, 'CloseUSD': 3380.00904067}\n",
      "{'Index': 'GDAXI', 'Date': '2017-06-08', 'Open': 12688.54004, 'High': 12740.36035, 'Low': 12684.70996, 'Close': 12713.58008, 'Adj Close': 12713.58008, 'Volume': 97505300.0, 'CloseUSD': 15510.5676976}\n",
      "{'Index': 'GDAXI', 'Date': '1999-09-29', 'Open': 5157.169922, 'High': 5172.459961, 'Low': 5069.870117, 'Close': 5135.620117, 'Adj Close': 5135.620117, 'Volume': 0.0, 'CloseUSD': 6265.45654274}\n",
      "{'Index': 'HSI', 'Date': '2001-11-27', 'Open': 11402.03027, 'High': 11428.49023, 'Low': 11216.53027, 'Close': 11261.54004, 'Adj Close': 11261.54004, 'Volume': 269437000.0, 'CloseUSD': 1464.0002052}\n",
      "{'Index': 'NYA', 'Date': '1973-11-05', 'Open': 599.640015, 'High': 599.640015, 'Low': 599.640015, 'Close': 599.640015, 'Adj Close': 599.640015, 'Volume': 0.0, 'CloseUSD': 599.640015}\n",
      "{'Index': 'NYA', 'Date': '1989-04-11', 'Open': 1771.949951, 'High': 1771.949951, 'Low': 1771.949951, 'Close': 1771.949951, 'Adj Close': 1771.949951, 'Volume': 0.0, 'CloseUSD': 1771.949951}\n",
      "{'Index': 'N100', 'Date': '2001-10-22', 'Open': 730.47998, 'High': 740.659973, 'Low': 723.830017, 'Close': 740.460022, 'Adj Close': 740.460022, 'Volume': 0.0, 'CloseUSD': 903.36122684}\n",
      "{'Index': 'GDAXI', 'Date': '2004-07-02', 'Open': 4030.459961, 'High': 4030.459961, 'Low': 3990.5, 'Close': 3998.77002, 'Adj Close': 3998.77002, 'Volume': 77414100.0, 'CloseUSD': 4878.4994244}\n",
      "{'Index': '000001.SS', 'Date': '2002-01-16', 'Open': 1458.843018, 'High': 1482.177979, 'Low': 1439.400024, 'Close': 1479.619019, 'Adj Close': 1479.619019, 'Volume': 0.0, 'CloseUSD': 236.73904304}\n",
      "{'Index': 'GSPTSE', 'Date': '1989-05-24', 'Open': 3645.199951, 'High': 3667.399902, 'Low': 3645.100098, 'Close': 3667.399902, 'Adj Close': 3658.086426, 'Volume': 23170000.0, 'CloseUSD': 3043.94191866}\n",
      "{'Index': 'GSPTSE', 'Date': '1994-10-03', 'Open': 4352.600098, 'High': 4352.600098, 'Low': 4338.0, 'Close': 4344.700195, 'Adj Close': 4344.700195, 'Volume': 43560000.0, 'CloseUSD': 3606.10116185}\n",
      "{'Index': 'NYA', 'Date': '1971-12-28', 'Open': 594.669983, 'High': 594.669983, 'Low': 594.669983, 'Close': 594.669983, 'Adj Close': 594.669983, 'Volume': 0.0, 'CloseUSD': 594.669983}\n",
      "{'Index': 'IXIC', 'Date': '1995-11-30', 'Open': 1056.77002, 'High': 1061.880005, 'Low': 1056.01001, 'Close': 1059.199951, 'Adj Close': 1059.199951, 'Volume': 542960000.0, 'CloseUSD': 1059.199951}\n",
      "{'Index': 'GDAXI', 'Date': '1997-01-28', 'Open': 2988.560059, 'High': 3032.909912, 'Low': 2981.929932, 'Close': 3028.27002, 'Adj Close': 3028.27002, 'Volume': 0.0, 'CloseUSD': 3694.4894244}\n"
     ]
    },
    {
     "ename": "KeyboardInterrupt",
     "evalue": "",
     "output_type": "error",
     "traceback": [
      "\u001b[1;31m---------------------------------------------------------------------------\u001b[0m",
      "\u001b[1;31mKeyboardInterrupt\u001b[0m                         Traceback (most recent call last)",
      "Cell \u001b[1;32mIn[6], line 1\u001b[0m\n\u001b[1;32m----> 1\u001b[0m \u001b[38;5;28;43;01mfor\u001b[39;49;00m\u001b[43m \u001b[49m\u001b[43mc\u001b[49m\u001b[43m \u001b[49m\u001b[38;5;129;43;01min\u001b[39;49;00m\u001b[43m \u001b[49m\u001b[43mconsumer\u001b[49m\u001b[43m:\u001b[49m\n\u001b[0;32m      2\u001b[0m \u001b[43m     \u001b[49m\u001b[38;5;28;43mprint\u001b[39;49m\u001b[43m(\u001b[49m\u001b[43mc\u001b[49m\u001b[38;5;241;43m.\u001b[39;49m\u001b[43mvalue\u001b[49m\u001b[43m)\u001b[49m\n",
      "File \u001b[1;32m~\\AppData\\Local\\Programs\\Python\\Python312\\Lib\\site-packages\\kafka\\consumer\\group.py:1193\u001b[0m, in \u001b[0;36mKafkaConsumer.__next__\u001b[1;34m(self)\u001b[0m\n\u001b[0;32m   1191\u001b[0m     \u001b[38;5;28;01mreturn\u001b[39;00m \u001b[38;5;28mself\u001b[39m\u001b[38;5;241m.\u001b[39mnext_v1()\n\u001b[0;32m   1192\u001b[0m \u001b[38;5;28;01melse\u001b[39;00m:\n\u001b[1;32m-> 1193\u001b[0m     \u001b[38;5;28;01mreturn\u001b[39;00m \u001b[38;5;28;43mself\u001b[39;49m\u001b[38;5;241;43m.\u001b[39;49m\u001b[43mnext_v2\u001b[49m\u001b[43m(\u001b[49m\u001b[43m)\u001b[49m\n",
      "File \u001b[1;32m~\\AppData\\Local\\Programs\\Python\\Python312\\Lib\\site-packages\\kafka\\consumer\\group.py:1201\u001b[0m, in \u001b[0;36mKafkaConsumer.next_v2\u001b[1;34m(self)\u001b[0m\n\u001b[0;32m   1199\u001b[0m     \u001b[38;5;28mself\u001b[39m\u001b[38;5;241m.\u001b[39m_iterator \u001b[38;5;241m=\u001b[39m \u001b[38;5;28mself\u001b[39m\u001b[38;5;241m.\u001b[39m_message_generator_v2()\n\u001b[0;32m   1200\u001b[0m \u001b[38;5;28;01mtry\u001b[39;00m:\n\u001b[1;32m-> 1201\u001b[0m     \u001b[38;5;28;01mreturn\u001b[39;00m \u001b[38;5;28;43mnext\u001b[39;49m\u001b[43m(\u001b[49m\u001b[38;5;28;43mself\u001b[39;49m\u001b[38;5;241;43m.\u001b[39;49m\u001b[43m_iterator\u001b[49m\u001b[43m)\u001b[49m\n\u001b[0;32m   1202\u001b[0m \u001b[38;5;28;01mexcept\u001b[39;00m \u001b[38;5;167;01mStopIteration\u001b[39;00m:\n\u001b[0;32m   1203\u001b[0m     \u001b[38;5;28mself\u001b[39m\u001b[38;5;241m.\u001b[39m_iterator \u001b[38;5;241m=\u001b[39m \u001b[38;5;28;01mNone\u001b[39;00m\n",
      "File \u001b[1;32m~\\AppData\\Local\\Programs\\Python\\Python312\\Lib\\site-packages\\kafka\\consumer\\group.py:1116\u001b[0m, in \u001b[0;36mKafkaConsumer._message_generator_v2\u001b[1;34m(self)\u001b[0m\n\u001b[0;32m   1114\u001b[0m \u001b[38;5;28;01mdef\u001b[39;00m \u001b[38;5;21m_message_generator_v2\u001b[39m(\u001b[38;5;28mself\u001b[39m):\n\u001b[0;32m   1115\u001b[0m     timeout_ms \u001b[38;5;241m=\u001b[39m \u001b[38;5;241m1000\u001b[39m \u001b[38;5;241m*\u001b[39m (\u001b[38;5;28mself\u001b[39m\u001b[38;5;241m.\u001b[39m_consumer_timeout \u001b[38;5;241m-\u001b[39m time\u001b[38;5;241m.\u001b[39mtime())\n\u001b[1;32m-> 1116\u001b[0m     record_map \u001b[38;5;241m=\u001b[39m \u001b[38;5;28;43mself\u001b[39;49m\u001b[38;5;241;43m.\u001b[39;49m\u001b[43mpoll\u001b[49m\u001b[43m(\u001b[49m\u001b[43mtimeout_ms\u001b[49m\u001b[38;5;241;43m=\u001b[39;49m\u001b[43mtimeout_ms\u001b[49m\u001b[43m,\u001b[49m\u001b[43m \u001b[49m\u001b[43mupdate_offsets\u001b[49m\u001b[38;5;241;43m=\u001b[39;49m\u001b[38;5;28;43;01mFalse\u001b[39;49;00m\u001b[43m)\u001b[49m\n\u001b[0;32m   1117\u001b[0m     \u001b[38;5;28;01mfor\u001b[39;00m tp, records \u001b[38;5;129;01min\u001b[39;00m six\u001b[38;5;241m.\u001b[39miteritems(record_map):\n\u001b[0;32m   1118\u001b[0m         \u001b[38;5;66;03m# Generators are stateful, and it is possible that the tp / records\u001b[39;00m\n\u001b[0;32m   1119\u001b[0m         \u001b[38;5;66;03m# here may become stale during iteration -- i.e., we seek to a\u001b[39;00m\n\u001b[0;32m   1120\u001b[0m         \u001b[38;5;66;03m# different offset, pause consumption, or lose assignment.\u001b[39;00m\n\u001b[0;32m   1121\u001b[0m         \u001b[38;5;28;01mfor\u001b[39;00m record \u001b[38;5;129;01min\u001b[39;00m records:\n\u001b[0;32m   1122\u001b[0m             \u001b[38;5;66;03m# is_fetchable(tp) should handle assignment changes and offset\u001b[39;00m\n\u001b[0;32m   1123\u001b[0m             \u001b[38;5;66;03m# resets; for all other changes (e.g., seeks) we'll rely on the\u001b[39;00m\n\u001b[0;32m   1124\u001b[0m             \u001b[38;5;66;03m# outer function destroying the existing iterator/generator\u001b[39;00m\n\u001b[0;32m   1125\u001b[0m             \u001b[38;5;66;03m# via self._iterator = None\u001b[39;00m\n",
      "File \u001b[1;32m~\\AppData\\Local\\Programs\\Python\\Python312\\Lib\\site-packages\\kafka\\consumer\\group.py:655\u001b[0m, in \u001b[0;36mKafkaConsumer.poll\u001b[1;34m(self, timeout_ms, max_records, update_offsets)\u001b[0m\n\u001b[0;32m    653\u001b[0m remaining \u001b[38;5;241m=\u001b[39m timeout_ms\n\u001b[0;32m    654\u001b[0m \u001b[38;5;28;01mwhile\u001b[39;00m \u001b[38;5;28;01mTrue\u001b[39;00m:\n\u001b[1;32m--> 655\u001b[0m     records \u001b[38;5;241m=\u001b[39m \u001b[38;5;28;43mself\u001b[39;49m\u001b[38;5;241;43m.\u001b[39;49m\u001b[43m_poll_once\u001b[49m\u001b[43m(\u001b[49m\u001b[43mremaining\u001b[49m\u001b[43m,\u001b[49m\u001b[43m \u001b[49m\u001b[43mmax_records\u001b[49m\u001b[43m,\u001b[49m\u001b[43m \u001b[49m\u001b[43mupdate_offsets\u001b[49m\u001b[38;5;241;43m=\u001b[39;49m\u001b[43mupdate_offsets\u001b[49m\u001b[43m)\u001b[49m\n\u001b[0;32m    656\u001b[0m     \u001b[38;5;28;01mif\u001b[39;00m records:\n\u001b[0;32m    657\u001b[0m         \u001b[38;5;28;01mreturn\u001b[39;00m records\n",
      "File \u001b[1;32m~\\AppData\\Local\\Programs\\Python\\Python312\\Lib\\site-packages\\kafka\\consumer\\group.py:702\u001b[0m, in \u001b[0;36mKafkaConsumer._poll_once\u001b[1;34m(self, timeout_ms, max_records, update_offsets)\u001b[0m\n\u001b[0;32m    699\u001b[0m     \u001b[38;5;28mself\u001b[39m\u001b[38;5;241m.\u001b[39m_client\u001b[38;5;241m.\u001b[39mpoll(timeout_ms\u001b[38;5;241m=\u001b[39m\u001b[38;5;241m0\u001b[39m)\n\u001b[0;32m    701\u001b[0m timeout_ms \u001b[38;5;241m=\u001b[39m \u001b[38;5;28mmin\u001b[39m(timeout_ms, \u001b[38;5;28mself\u001b[39m\u001b[38;5;241m.\u001b[39m_coordinator\u001b[38;5;241m.\u001b[39mtime_to_next_poll() \u001b[38;5;241m*\u001b[39m \u001b[38;5;241m1000\u001b[39m)\n\u001b[1;32m--> 702\u001b[0m \u001b[38;5;28;43mself\u001b[39;49m\u001b[38;5;241;43m.\u001b[39;49m\u001b[43m_client\u001b[49m\u001b[38;5;241;43m.\u001b[39;49m\u001b[43mpoll\u001b[49m\u001b[43m(\u001b[49m\u001b[43mtimeout_ms\u001b[49m\u001b[38;5;241;43m=\u001b[39;49m\u001b[43mtimeout_ms\u001b[49m\u001b[43m)\u001b[49m\n\u001b[0;32m    703\u001b[0m \u001b[38;5;66;03m# after the long poll, we should check whether the group needs to rebalance\u001b[39;00m\n\u001b[0;32m    704\u001b[0m \u001b[38;5;66;03m# prior to returning data so that the group can stabilize faster\u001b[39;00m\n\u001b[0;32m    705\u001b[0m \u001b[38;5;28;01mif\u001b[39;00m \u001b[38;5;28mself\u001b[39m\u001b[38;5;241m.\u001b[39m_coordinator\u001b[38;5;241m.\u001b[39mneed_rejoin():\n",
      "File \u001b[1;32m~\\AppData\\Local\\Programs\\Python\\Python312\\Lib\\site-packages\\kafka\\client_async.py:602\u001b[0m, in \u001b[0;36mKafkaClient.poll\u001b[1;34m(self, timeout_ms, future)\u001b[0m\n\u001b[0;32m    599\u001b[0m             timeout \u001b[38;5;241m=\u001b[39m \u001b[38;5;28mmin\u001b[39m(timeout, \u001b[38;5;28mself\u001b[39m\u001b[38;5;241m.\u001b[39mconfig[\u001b[38;5;124m'\u001b[39m\u001b[38;5;124mretry_backoff_ms\u001b[39m\u001b[38;5;124m'\u001b[39m])\n\u001b[0;32m    600\u001b[0m         timeout \u001b[38;5;241m=\u001b[39m \u001b[38;5;28mmax\u001b[39m(\u001b[38;5;241m0\u001b[39m, timeout)  \u001b[38;5;66;03m# avoid negative timeouts\u001b[39;00m\n\u001b[1;32m--> 602\u001b[0m     \u001b[38;5;28;43mself\u001b[39;49m\u001b[38;5;241;43m.\u001b[39;49m\u001b[43m_poll\u001b[49m\u001b[43m(\u001b[49m\u001b[43mtimeout\u001b[49m\u001b[43m \u001b[49m\u001b[38;5;241;43m/\u001b[39;49m\u001b[43m \u001b[49m\u001b[38;5;241;43m1000\u001b[39;49m\u001b[43m)\u001b[49m\n\u001b[0;32m    604\u001b[0m \u001b[38;5;66;03m# called without the lock to avoid deadlock potential\u001b[39;00m\n\u001b[0;32m    605\u001b[0m \u001b[38;5;66;03m# if handlers need to acquire locks\u001b[39;00m\n\u001b[0;32m    606\u001b[0m responses\u001b[38;5;241m.\u001b[39mextend(\u001b[38;5;28mself\u001b[39m\u001b[38;5;241m.\u001b[39m_fire_pending_completed_requests())\n",
      "File \u001b[1;32m~\\AppData\\Local\\Programs\\Python\\Python312\\Lib\\site-packages\\kafka\\client_async.py:634\u001b[0m, in \u001b[0;36mKafkaClient._poll\u001b[1;34m(self, timeout)\u001b[0m\n\u001b[0;32m    631\u001b[0m \u001b[38;5;28mself\u001b[39m\u001b[38;5;241m.\u001b[39m_register_send_sockets()\n\u001b[0;32m    633\u001b[0m start_select \u001b[38;5;241m=\u001b[39m time\u001b[38;5;241m.\u001b[39mtime()\n\u001b[1;32m--> 634\u001b[0m ready \u001b[38;5;241m=\u001b[39m \u001b[38;5;28;43mself\u001b[39;49m\u001b[38;5;241;43m.\u001b[39;49m\u001b[43m_selector\u001b[49m\u001b[38;5;241;43m.\u001b[39;49m\u001b[43mselect\u001b[49m\u001b[43m(\u001b[49m\u001b[43mtimeout\u001b[49m\u001b[43m)\u001b[49m\n\u001b[0;32m    635\u001b[0m end_select \u001b[38;5;241m=\u001b[39m time\u001b[38;5;241m.\u001b[39mtime()\n\u001b[0;32m    636\u001b[0m \u001b[38;5;28;01mif\u001b[39;00m \u001b[38;5;28mself\u001b[39m\u001b[38;5;241m.\u001b[39m_sensors:\n",
      "File \u001b[1;32m~\\AppData\\Local\\Programs\\Python\\Python312\\Lib\\selectors.py:323\u001b[0m, in \u001b[0;36mSelectSelector.select\u001b[1;34m(self, timeout)\u001b[0m\n\u001b[0;32m    321\u001b[0m ready \u001b[38;5;241m=\u001b[39m []\n\u001b[0;32m    322\u001b[0m \u001b[38;5;28;01mtry\u001b[39;00m:\n\u001b[1;32m--> 323\u001b[0m     r, w, _ \u001b[38;5;241m=\u001b[39m \u001b[38;5;28;43mself\u001b[39;49m\u001b[38;5;241;43m.\u001b[39;49m\u001b[43m_select\u001b[49m\u001b[43m(\u001b[49m\u001b[38;5;28;43mself\u001b[39;49m\u001b[38;5;241;43m.\u001b[39;49m\u001b[43m_readers\u001b[49m\u001b[43m,\u001b[49m\u001b[43m \u001b[49m\u001b[38;5;28;43mself\u001b[39;49m\u001b[38;5;241;43m.\u001b[39;49m\u001b[43m_writers\u001b[49m\u001b[43m,\u001b[49m\u001b[43m \u001b[49m\u001b[43m[\u001b[49m\u001b[43m]\u001b[49m\u001b[43m,\u001b[49m\u001b[43m \u001b[49m\u001b[43mtimeout\u001b[49m\u001b[43m)\u001b[49m\n\u001b[0;32m    324\u001b[0m \u001b[38;5;28;01mexcept\u001b[39;00m \u001b[38;5;167;01mInterruptedError\u001b[39;00m:\n\u001b[0;32m    325\u001b[0m     \u001b[38;5;28;01mreturn\u001b[39;00m ready\n",
      "File \u001b[1;32m~\\AppData\\Local\\Programs\\Python\\Python312\\Lib\\selectors.py:314\u001b[0m, in \u001b[0;36mSelectSelector._select\u001b[1;34m(self, r, w, _, timeout)\u001b[0m\n\u001b[0;32m    313\u001b[0m \u001b[38;5;28;01mdef\u001b[39;00m \u001b[38;5;21m_select\u001b[39m(\u001b[38;5;28mself\u001b[39m, r, w, _, timeout\u001b[38;5;241m=\u001b[39m\u001b[38;5;28;01mNone\u001b[39;00m):\n\u001b[1;32m--> 314\u001b[0m     r, w, x \u001b[38;5;241m=\u001b[39m \u001b[43mselect\u001b[49m\u001b[38;5;241;43m.\u001b[39;49m\u001b[43mselect\u001b[49m\u001b[43m(\u001b[49m\u001b[43mr\u001b[49m\u001b[43m,\u001b[49m\u001b[43m \u001b[49m\u001b[43mw\u001b[49m\u001b[43m,\u001b[49m\u001b[43m \u001b[49m\u001b[43mw\u001b[49m\u001b[43m,\u001b[49m\u001b[43m \u001b[49m\u001b[43mtimeout\u001b[49m\u001b[43m)\u001b[49m\n\u001b[0;32m    315\u001b[0m     \u001b[38;5;28;01mreturn\u001b[39;00m r, w \u001b[38;5;241m+\u001b[39m x, []\n",
      "\u001b[1;31mKeyboardInterrupt\u001b[0m: "
     ]
    }
   ],
   "source": [
    "# for c in consumer:\n",
    "  #   print(c.value)"
   ]
  },
  {
   "cell_type": "code",
   "execution_count": 5,
   "id": "8ef499d1-d756-4f55-aa9c-0383d41c654c",
   "metadata": {},
   "outputs": [],
   "source": [
    "s3= S3FileSystem()"
   ]
  },
  {
   "cell_type": "code",
   "execution_count": null,
   "id": "d144174c-db97-439f-af7d-07f565b4f895",
   "metadata": {},
   "outputs": [],
   "source": [
    "for count, i in enumerate(consumer):\n",
    "    with s3.open(\"s3://kafka-real-time-stock-analysis-santhosh/stock_market_{}.json\".format(count), 'w') as file:\n",
    "        json.dump(i.value, file)"
   ]
  },
  {
   "cell_type": "code",
   "execution_count": null,
   "id": "a92609c6-ef4a-465a-80f3-e19cc4ed90fc",
   "metadata": {},
   "outputs": [],
   "source": []
  }
 ],
 "metadata": {
  "kernelspec": {
   "display_name": "Python 3 (ipykernel)",
   "language": "python",
   "name": "python3"
  },
  "language_info": {
   "codemirror_mode": {
    "name": "ipython",
    "version": 3
   },
   "file_extension": ".py",
   "mimetype": "text/x-python",
   "name": "python",
   "nbconvert_exporter": "python",
   "pygments_lexer": "ipython3",
   "version": "3.12.0"
  }
 },
 "nbformat": 4,
 "nbformat_minor": 5
}
